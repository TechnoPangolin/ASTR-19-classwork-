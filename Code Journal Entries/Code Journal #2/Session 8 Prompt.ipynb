{
 "cells": [
  {
   "cell_type": "code",
   "execution_count": 1,
   "id": "1cd1ddb5",
   "metadata": {},
   "outputs": [],
   "source": [
    "#required imports\n",
    "import numpy as np, matplotlib.pyplot as plt"
   ]
  },
  {
   "cell_type": "code",
   "execution_count": 2,
   "id": "446b2ed0",
   "metadata": {},
   "outputs": [],
   "source": [
    "#initialize required array\n",
    "x = np.linspace(0, 1, 100)\n",
    "\n",
    "#define function that returns sine of args\n",
    "def sin(x):\n",
    "    return np.sin(x)\n",
    "\n",
    "#define function that returns cosine of args\n",
    "def cos(x):\n",
    "    return np.cos(x)"
   ]
  },
  {
   "cell_type": "code",
   "execution_count": null,
   "id": "035e61b7",
   "metadata": {},
   "outputs": [],
   "source": [
    "#initialize multipanel plot\n",
    "fig, ax = plt.subplots(1, 2)\n",
    "\n",
    "#fill out values for first plot\n",
    "ax[0].plot(x, sin(x))\n",
    "ax[0].set_xlabel('x')\n",
    "ax[0].set_ylabel('sin(x)')\n",
    "ax[0].set_title('$\\\\sin(x)$')\n",
    "\n",
    "#fill out values for second plot\n",
    "ax[1].plot(x, cos(x))\n",
    "ax[1].set_xlabel('x')\n",
    "ax[1].set_ylabel('cos(x)')\n",
    "ax[1].set_title('$\\\\cos(x)$')\n",
    "\n",
    "#give the axis labels some room to breathe\n",
    "fig.subplots_adjust(wspace=0.4)\n",
    "\n",
    "#export as pdf\n",
    "fig.savefig(\"Session 8 Prompt.pdf\", bbox_inches=\"tight\", dpi=300)"
   ]
  }
 ],
 "metadata": {
  "kernelspec": {
   "display_name": "Python 3 (ipykernel)",
   "language": "python",
   "name": "python3"
  },
  "language_info": {
   "codemirror_mode": {
    "name": "ipython",
    "version": 3
   },
   "file_extension": ".py",
   "mimetype": "text/x-python",
   "name": "python",
   "nbconvert_exporter": "python",
   "pygments_lexer": "ipython3",
   "version": "3.10.4"
  }
 },
 "nbformat": 4,
 "nbformat_minor": 5
}
