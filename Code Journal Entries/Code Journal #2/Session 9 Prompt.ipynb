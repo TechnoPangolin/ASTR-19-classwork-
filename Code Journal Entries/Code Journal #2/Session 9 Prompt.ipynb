{
 "cells": [
  {
   "cell_type": "code",
   "execution_count": 1,
   "id": "524d1d08",
   "metadata": {},
   "outputs": [],
   "source": [
    "#required imports\n",
    "import numpy as np, matplotlib.pyplot as plt"
   ]
  },
  {
   "cell_type": "code",
   "execution_count": null,
   "id": "53b6bae5",
   "metadata": {},
   "outputs": [],
   "source": [
    "#create 1000 random numbers b/w 0 and 1 inclusive\n",
    "data = np.random.uniform(0, 1, 1000)\n",
    "\n",
    "#create the plot\n",
    "f, ax = plt.subplots()\n",
    "\n",
    "#plot the histogram with 100 bins\n",
    "ax.hist(data, 100)\n",
    "#label the axes\n",
    "ax.set_xlabel(\"Uniform Random Numbers\")\n",
    "ax.set_ylabel(\"Probability of Occurrence\")\n",
    "\n",
    "#export as pdf\n",
    "f.savefig(\"Session 9 Prompt.pdf\", bbox_inches=\"tight\", dpi = 300)"
   ]
  }
 ],
 "metadata": {
  "kernelspec": {
   "display_name": "Python 3 (ipykernel)",
   "language": "python",
   "name": "python3"
  },
  "language_info": {
   "codemirror_mode": {
    "name": "ipython",
    "version": 3
   },
   "file_extension": ".py",
   "mimetype": "text/x-python",
   "name": "python",
   "nbconvert_exporter": "python",
   "pygments_lexer": "ipython3",
   "version": "3.10.4"
  }
 },
 "nbformat": 4,
 "nbformat_minor": 5
}
