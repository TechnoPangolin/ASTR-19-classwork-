{
 "cells": [
  {
   "cell_type": "code",
   "execution_count": 27,
   "id": "8278ae90",
   "metadata": {},
   "outputs": [],
   "source": [
    "#import libraries\n",
    "import matplotlib.pyplot as mplt, matplotlib.axes as ax, numpy as np"
   ]
  },
  {
   "cell_type": "code",
   "execution_count": 30,
   "id": "49922739",
   "metadata": {},
   "outputs": [],
   "source": [
    "#initialize and fill required array\n",
    "x = np.linspace(0, 1, 100)\n",
    "\n",
    "#define function to return square of args\n",
    "def exp(z):\n",
    "    return np.exp(z)"
   ]
  },
  {
   "cell_type": "code",
   "execution_count": null,
   "id": "c443c179",
   "metadata": {},
   "outputs": [],
   "source": [
    "#initialize y data array\n",
    "y = exp(x)\n",
    "\n",
    "#create figure to graph to\n",
    "fig, ax = mplt.subplots()\n",
    "\n",
    "#create labels for axes\n",
    "ax.set_xlabel(\"Time [milliseconds]\")\n",
    "ax.set_ylabel(\"Awesomeness\")\n",
    "\n",
    "#plot the data\n",
    "ax.plot(x, y)\n",
    "\n",
    "#save the plot as a pdf\n",
    "fig.savefig(\"Session 7 prompt.pdf\", bbox_inches=\"tight\", dpi=300)"
   ]
  }
 ],
 "metadata": {
  "kernelspec": {
   "display_name": "Python 3 (ipykernel)",
   "language": "python",
   "name": "python3"
  },
  "language_info": {
   "codemirror_mode": {
    "name": "ipython",
    "version": 3
   },
   "file_extension": ".py",
   "mimetype": "text/x-python",
   "name": "python",
   "nbconvert_exporter": "python",
   "pygments_lexer": "ipython3",
   "version": "3.10.4"
  }
 },
 "nbformat": 4,
 "nbformat_minor": 5
}
