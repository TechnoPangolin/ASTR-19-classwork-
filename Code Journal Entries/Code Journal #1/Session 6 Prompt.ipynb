{
 "cells": [
  {
   "cell_type": "markdown",
   "id": "cc93bdf6",
   "metadata": {},
   "source": [
    "Import numpy to get access to the required functions"
   ]
  },
  {
   "cell_type": "code",
   "execution_count": 3,
   "id": "53d1670d",
   "metadata": {},
   "outputs": [],
   "source": [
    "import numpy as np"
   ]
  },
  {
   "cell_type": "markdown",
   "id": "ee4dd1c2",
   "metadata": {},
   "source": [
    "Define function that returns Sin(x)"
   ]
  },
  {
   "cell_type": "code",
   "execution_count": 4,
   "id": "3b603e2a",
   "metadata": {},
   "outputs": [],
   "source": [
    "def Sin(x):\n",
    "    return np.sin(x)"
   ]
  },
  {
   "cell_type": "markdown",
   "id": "50ebd366",
   "metadata": {},
   "source": [
    "Define function that returns Cos(x)"
   ]
  },
  {
   "cell_type": "code",
   "execution_count": 8,
   "id": "22df1f98",
   "metadata": {},
   "outputs": [],
   "source": [
    "def Cos(x):\n",
    "    return np.cos(x)"
   ]
  },
  {
   "cell_type": "markdown",
   "id": "1332af9e",
   "metadata": {},
   "source": [
    "Tabulate results vs. x where x is a one thousandth increment of 0 to 2pi and print first 10"
   ]
  },
  {
   "cell_type": "code",
   "execution_count": 9,
   "id": "8c732a72",
   "metadata": {},
   "outputs": [
    {
     "name": "stdout",
     "output_type": "stream",
     "text": [
      "|------X-----|---Sin(X)----|---Cos(X)-----|\n",
      "|0.0|0.0|1.0|\n",
      "|1.0|0.8414709848078965|0.5403023058681398|\n",
      "|2.0|0.9092974268256817|-0.4161468365471424|\n",
      "|3.0|0.1411200080598672|-0.9899924966004454|\n",
      "|4.0|-0.7568024953079282|-0.6536436208636119|\n",
      "|5.0|-0.9589242746631385|0.28366218546322625|\n",
      "|6.0|-0.27941549819892586|0.960170286650366|\n",
      "|7.0|0.6569865987187891|0.7539022543433046|\n",
      "|8.0|0.9893582466233818|-0.14550003380861354|\n",
      "|9.0|0.4121184852417566|-0.9111302618846769|\n"
     ]
    }
   ],
   "source": [
    "output = np.zeros((3,1000))\n",
    "\n",
    "for I in range(1000):\n",
    "    output[0, I] = I\n",
    "    output[1, I] = Sin(I)\n",
    "    output[2, I] = Cos(I)\n",
    "    \n",
    "print(\"|------X-----|---Sin(X)----|---Cos(X)-----|\")\n",
    "    \n",
    "for I in range(10):\n",
    "    print(\"|\" + str(output[0, I]) + \"|\" + str(output[1, I]) + \"|\" + str(output[2, I]) + \"|\")"
   ]
  }
 ],
 "metadata": {
  "kernelspec": {
   "display_name": "Python 3 (ipykernel)",
   "language": "python",
   "name": "python3"
  },
  "language_info": {
   "codemirror_mode": {
    "name": "ipython",
    "version": 3
   },
   "file_extension": ".py",
   "mimetype": "text/x-python",
   "name": "python",
   "nbconvert_exporter": "python",
   "pygments_lexer": "ipython3",
   "version": "3.10.4"
  }
 },
 "nbformat": 4,
 "nbformat_minor": 5
}
